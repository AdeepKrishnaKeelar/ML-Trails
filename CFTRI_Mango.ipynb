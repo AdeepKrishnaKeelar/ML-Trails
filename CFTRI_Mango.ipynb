{
  "nbformat": 4,
  "nbformat_minor": 0,
  "metadata": {
    "colab": {
      "name": "CFTRI Mango",
      "provenance": [],
      "collapsed_sections": [],
      "mount_file_id": "16TdLl51DFnNbnf7jyKLz3ITfDW3aVgws",
      "authorship_tag": "ABX9TyOt/Xz+TSYZTKKHe7eiLuc9",
      "include_colab_link": true
    },
    "kernelspec": {
      "name": "python3",
      "display_name": "Python 3"
    },
    "language_info": {
      "name": "python"
    },
    "accelerator": "GPU"
  },
  "cells": [
    {
      "cell_type": "markdown",
      "metadata": {
        "id": "view-in-github",
        "colab_type": "text"
      },
      "source": [
        "<a href=\"https://colab.research.google.com/github/AdeepKrishnaKeelar/ML-Trails/blob/master/CFTRI_Mango.ipynb\" target=\"_parent\"><img src=\"https://colab.research.google.com/assets/colab-badge.svg\" alt=\"Open In Colab\"/></a>"
      ]
    },
    {
      "cell_type": "code",
      "source": [
        "import os\n",
        "import tensorflow as tf\n",
        "from tensorflow.keras.preprocessing import image\n",
        "from tensorflow.keras.preprocessing.image import ImageDataGenerator\n",
        "from tensorflow.keras.applications.resnet50 import ResNet50\n",
        "from tensorflow.keras.applications.resnet50 import preprocess_input,decode_predictions\n",
        "import numpy as np\n",
        "import matplotlib.pyplot as plt\n",
        "from IPython.display import Image"
      ],
      "metadata": {
        "id": "SRZ3pWQJ4mw6"
      },
      "execution_count": 7,
      "outputs": []
    },
    {
      "cell_type": "code",
      "source": [
        "os.listdir('/content/drive/MyDrive/Data/CFTRI Dataset/CFTRI/train')"
      ],
      "metadata": {
        "colab": {
          "base_uri": "https://localhost:8080/"
        },
        "id": "QaMBQCJy7fCF",
        "outputId": "09f7c5f7-7958-4d19-c2a5-a1f616530652"
      },
      "execution_count": 8,
      "outputs": [
        {
          "output_type": "execute_result",
          "data": {
            "text/plain": [
              "['cold_etheral',\n",
              " 'hot_natural',\n",
              " 'hot_calcium',\n",
              " 'natural',\n",
              " 'hot_etheral',\n",
              " 'calcium_cold']"
            ]
          },
          "metadata": {},
          "execution_count": 8
        }
      ]
    },
    {
      "cell_type": "code",
      "source": [
        "print(f'The total number of labels in this directory is {len(os.listdir(\"/content/drive/MyDrive/Data/CFTRI Dataset/CFTRI/train\"))}')"
      ],
      "metadata": {
        "colab": {
          "base_uri": "https://localhost:8080/"
        },
        "id": "zR9X09sj7r8_",
        "outputId": "54c3105f-c5ef-4e65-aad9-a3466872ea7e"
      },
      "execution_count": 10,
      "outputs": [
        {
          "output_type": "stream",
          "name": "stdout",
          "text": [
            "The total number of labels in this directory is 6\n"
          ]
        }
      ]
    },
    {
      "cell_type": "code",
      "source": [
        "train = ImageDataGenerator(rescale=1/255)"
      ],
      "metadata": {
        "id": "jRmUOM089vl1"
      },
      "execution_count": 18,
      "outputs": []
    },
    {
      "cell_type": "code",
      "source": [
        "training_data = train.flow_from_directory(\n",
        "    '/content/drive/MyDrive/Data/CFTRI Dataset/CFTRI/train',\n",
        "    target_size=(224,224),\n",
        "    batch_size=16,\n",
        "    class_mode='categorical',\n",
        ")"
      ],
      "metadata": {
        "colab": {
          "base_uri": "https://localhost:8080/"
        },
        "id": "LAlAsNvq-C2D",
        "outputId": "8720c551-3d68-4e89-92b6-4dab31227e2b"
      },
      "execution_count": 19,
      "outputs": [
        {
          "output_type": "stream",
          "name": "stdout",
          "text": [
            "Found 206 images belonging to 6 classes.\n"
          ]
        }
      ]
    },
    {
      "cell_type": "code",
      "source": [
        "training_data.class_indices"
      ],
      "metadata": {
        "colab": {
          "base_uri": "https://localhost:8080/"
        },
        "id": "VBH1zlC4gQ1E",
        "outputId": "68544177-b3f8-475b-ddb8-fd3e9fb42a95"
      },
      "execution_count": 20,
      "outputs": [
        {
          "output_type": "execute_result",
          "data": {
            "text/plain": [
              "{'calcium_cold': 0,\n",
              " 'cold_etheral': 1,\n",
              " 'hot_calcium': 2,\n",
              " 'hot_etheral': 3,\n",
              " 'hot_natural': 4,\n",
              " 'natural': 5}"
            ]
          },
          "metadata": {},
          "execution_count": 20
        }
      ]
    }
  ]
}